{
 "cells": [
  {
   "cell_type": "markdown",
   "id": "c9595022",
   "metadata": {},
   "source": [
    "<div style=\"text-align: center;\">\n",
    "    <img src=\"UFCA.png\" alt=\"alt text\">\n",
    "</div>\n",
    "\n",
    "&nbsp;\n",
    "\n",
    "<div style=\"text-align: center; font-size: 80px;\">\n",
    "    Aprendizado online em redes Bayesianas discretas\n",
    "</div>\n",
    "\n",
    "&nbsp;\n",
    "\n",
    "**Bolsista-docente**: Gabriel Lucena de Oliveira.\n",
    "\n",
    "**Orientador-docente**: Paulo Renato Alves Firmino.\n",
    "\n",
    "**Disciplina em estágio**: Introdução à Inferência Bayesiana."
   ]
  },
  {
   "cell_type": "markdown",
   "id": "a5486a3b",
   "metadata": {},
   "source": [
    "# Sumário\n",
    "1. Redes Bayesianas;\n",
    "2. Discretização"
   ]
  }
 ],
 "metadata": {
  "language_info": {
   "name": "python"
  }
 },
 "nbformat": 4,
 "nbformat_minor": 5
}
