{
 "cells": [
  {
   "cell_type": "code",
   "execution_count": 25,
   "id": "30fc183a",
   "metadata": {},
   "outputs": [],
   "source": [
    "# # Warnings\n",
    "import warnings\n",
    "warnings.filterwarnings(\"ignore\")\n",
    "\n",
    "\n",
    "# # Manipulação de dados e arquivos\n",
    "import math\n",
    "import pandas as pd\n",
    "import numpy as np\n",
    "from scipy.ndimage import shift\n",
    "import os\n",
    "import sys\n",
    "import tabula\n",
    "\n",
    "np.random.seed(0)\n",
    "\n",
    "# # Tempo\n",
    "import time\n",
    "from datetime import datetime\n",
    "\n",
    "\n",
    "# # Gráficos\n",
    "from matplotlib import pyplot as plt\n",
    "import seaborn as sns\n",
    "import plotly.express as px\n",
    "from plotly.subplots import make_subplots\n",
    "import plotly.graph_objects as go\n",
    "from statsmodels.graphics.tsaplots import plot_pacf\n",
    "import statsmodels.api as sm\n",
    "\n",
    "\n",
    "# # Preprocessing\n",
    "# Transformação dos dados\n",
    "from sklearn.preprocessing import OneHotEncoder, KBinsDiscretizer\n",
    "\n",
    "# splitting\n",
    "from sklearn.model_selection import TimeSeriesSplit\n",
    "\n",
    "\n",
    "# # Modelos\n",
    "# Random Walk\n",
    "from pmdarima.arima import auto_arima\n",
    "\n",
    "# ETS\n",
    "from sktime.forecasting.ets import AutoETS\n",
    "from sktime.forecasting.base import ForecastingHorizon\n",
    "\n",
    "# SVR\n",
    "from sklearn.svm import SVR\n",
    "\n",
    "# NNs - Layers\n",
    "import tensorflow as tf\n",
    "from tensorflow import keras\n",
    "from tensorflow.keras import layers\n",
    "from tensorflow.keras.models import Sequential\n",
    "from tensorflow.keras.layers import Dense, Dropout, GRU\n",
    "\n",
    "# NN - Optimizers\n",
    "from tensorflow.keras.optimizers import Adam, SGD, RMSprop\n",
    "\n",
    "# NN - Tuning\n",
    "from sklearn.model_selection import GridSearchCV, TimeSeriesSplit\n",
    "from scikeras.wrappers import KerasRegressor\n",
    "from tensorflow.keras.callbacks import EarlyStopping\n",
    "\n",
    "# Bayesian Network\n",
    "from pgmpy.inference import VariableElimination\n",
    "from pgmpy.models import BayesianNetwork\n",
    "from pgmpy.factors.discrete import TabularCPD\n",
    "from pgmpy.estimators import BayesianEstimator\n",
    "import daft\n",
    "\n",
    "# # Metricas de desempenho básicas\n",
    "from sklearn.metrics import mean_absolute_error as mae\n",
    "from sklearn.metrics import mean_absolute_percentage_error as mape\n",
    "from sklearn.metrics import root_mean_squared_error as rmse\n",
    "\n",
    "\n",
    "# Configurações\n",
    "# pd.set_option('display.float_format', lambda x: '%.5f' % x)"
   ]
  },
  {
   "cell_type": "markdown",
   "id": "803008df",
   "metadata": {},
   "source": [
    "# Funções auxiliares"
   ]
  },
  {
   "cell_type": "markdown",
   "id": "26aec7bb",
   "metadata": {},
   "source": [
    "## Pré-processamento"
   ]
  },
  {
   "cell_type": "code",
   "execution_count": 26,
   "id": "64cbf85b",
   "metadata": {},
   "outputs": [],
   "source": [
    "# Obtenção das macrorregiões do Ceará \n",
    "def pdf_Preprocessing(path):\n",
    "    raw_pdf = tabula.read_pdf(path, pages='all')\n",
    "\n",
    "    list_raw_pdf = []\n",
    "\n",
    "    for page in raw_pdf:\n",
    "        # Tratamento dos dados\n",
    "        page.drop(axis=0, index=[0], inplace=True)\n",
    "        add = pd.Series(page['Unnamed: 1'], name=False)\n",
    "        add.index=page['MUNICÍPIOS POR REGIÃO']\n",
    "        add.rename_axis(index='', inplace=True)\n",
    "        list_raw_pdf.append(add)\n",
    "\n",
    "    df_pdf = pd.concat(list_raw_pdf)\n",
    "    df_pdf = pd.DataFrame(df_pdf)\n",
    "    df_pdf.columns = ['Regiao']\n",
    "    \n",
    "    return df_pdf\n",
    "\n",
    "\n",
    "# Obtenção da quantidade de queimadas por município\n",
    "def queimadas_Preprocessing(path, files_names):\n",
    "    list_raw_queimadas = []  # drop: Satelite, Pais, Estado, Bioma, Precipitacao, Latitude, Longitude, FRP\n",
    "    \n",
    "    for file in files_names:\n",
    "        df = pd.read_csv(filepath_or_buffer=os.path.join(path, file))\n",
    "        df.drop(columns=['Satelite', 'Pais', 'Estado', 'Bioma', 'Precipitacao', 'Latitude', 'Longitude', 'FRP'])\n",
    "        list_raw_queimadas.append(df)\n",
    "        \n",
    "    raw = pd.concat(list_raw_queimadas, ignore_index=True)\n",
    "    raw.loc[:, 'DataHora'] = pd.to_datetime(raw['DataHora'], format='%Y/%m/%d %H:%M:%S')\n",
    "    raw = raw.drop_duplicates()\n",
    "    raw = raw.sort_values('DataHora', ignore_index=True)\n",
    "    \n",
    "    \n",
    "    return raw\n",
    "\n",
    "# Criando o agregado mensal por região\n",
    "def regiao_mensal_Preprocessing(dataframe_regioes, dataframe_queimadas):\n",
    "    # # Criando coluna com as regiões\n",
    "    dataframe_queimadas.loc[:, 'Municipio'] = dataframe_queimadas['Municipio'].str.upper()  # Padronizando todas as strings em maiúsculas (upper)\n",
    "    regioes = dataframe_regioes.loc[dataframe_queimadas['Municipio'], :].values.flatten()\n",
    "    dataframe_queimadas['Regiao'] = regioes.copy()\n",
    "    \n",
    "    \n",
    "    # # Realizando agregado mensal\n",
    "    # Acrescentando a coluna de contagem de queimadas\n",
    "    top_region = dataframe_queimadas.Regiao.value_counts().index\n",
    "    dataframe_queimadas['Count'] = np.repeat(1, len(dataframe_queimadas))\n",
    "    \n",
    "    # Criando range com todas as datas\n",
    "    datai = datetime(year=1998, month=7, day=1).date()  # Essa sempre será a data inicial, pois foi quando o INPE começou o registro. \n",
    "    dataf = dataframe_queimadas.loc[len(dataframe_queimadas)-1, 'DataHora'].date()\n",
    "    dates = pd.date_range(datai, dataf, freq='MS')\n",
    "        \n",
    "    mensal_list = []\n",
    "    for regiao in top_region:\n",
    "        # Realizando agregado mensal\n",
    "        temp2 = dataframe_queimadas[dataframe_queimadas['Regiao'] == regiao]\n",
    "        temp2.loc[:, 'DataHora'] = pd.PeriodIndex(temp2['DataHora'], freq=\"M\")\n",
    "        temp2 = temp2.groupby('DataHora')['Count'].sum()\n",
    "        temp2 = pd.DataFrame(data={'Data': temp2.index, \n",
    "                                   'Count': temp2.values})\n",
    "        \n",
    "        # Modificando tipo de dados e adicionando datas faltosas\n",
    "        temp2['Data'] = temp2['Data'].astype('datetime64[ns]')\n",
    "        \n",
    "        to_add = pd.DataFrame(data={'Data': dates, \n",
    "                                    'Count': np.tile(0, len(dates))})\n",
    "        \n",
    "        full = pd.concat([temp2, to_add])\n",
    "        full = full.drop_duplicates(subset='Data')\n",
    "        full.sort_values(inplace=True, by='Data',ignore_index=True)\n",
    "        full['Regiao'] = np.tile(regiao, len(full))\n",
    "        \n",
    "        \n",
    "        mensal_list.append(full.copy())\n",
    "    \n",
    "    mensal = pd.concat(mensal_list, ignore_index=True)\n",
    "    return mensal\n",
    "\n",
    "\n",
    "def Dataframe_Sig_Lags(y, nLags = 5, alpha=0.05, plot=True):\n",
    "    # Calculando a autocorrelação\n",
    "    pac, pac_ci = sm.tsa.pacf(x=y, nlags=nLags, alpha=alpha)\n",
    "    \n",
    "    # Obtendo os valores de lags\n",
    "    significantLags = []\n",
    "    for c in range(1, len(pac)):\n",
    "        # print(pac[c], pac_ci[c][0], pac_ci[c][1])\n",
    "        if pac[c] < pac_ci[c][0] - pac[c] or pac[c] > pac_ci[c][1] - pac[c]:\n",
    "            significantLags.append(c)\n",
    "    \n",
    "    # Plotando\n",
    "    if plot == True:\n",
    "        pd.DataFrame(pac)[1:].plot(kind='bar', figsize=(8, 3), legend='pacf',\n",
    "                                xlabel='lag', ylabel='pacf_'+y.name);\n",
    "        print('\\n\\nOs lags significantes são: :', significantLags)\n",
    "    \n",
    "    return significantLags\n",
    "\n",
    "\n",
    "# Obtenção de lags significantes\n",
    "def get_significant_lags(df, nLags=40, alpha=0.01):\n",
    "    sig_lags_dict = {}\n",
    "    sig_lags_len = []\n",
    "    \n",
    "    for col in df.columns:\n",
    "        sig_lags = Dataframe_Sig_Lags(df[col], nLags=nLags, alpha=alpha, plot=False)\n",
    "        sig_lags_len.append(len(sig_lags))\n",
    "        sig_lags_dict[col] = sig_lags\n",
    "    \n",
    "    cols = [f'lag_#{c}' for c in range(1, (np.max(sig_lags_len))+1)]\n",
    "    \n",
    "    return pd.DataFrame(sig_lags_dict.values(), index=sig_lags_dict.keys(), columns=cols)\n",
    "\n",
    "\n",
    "def bayesian_data_processing(df, lags_df):\n",
    "    dict_diff = {}\n",
    "    # forecasting_dict = {}\n",
    "    if type(df) == type(dict()):\n",
    "        for c, col in enumerate(df.keys()):\n",
    "            dataframe = pd.DataFrame(df[col], index=df[col].index, columns=[col])\n",
    "            lag_vals = lags_df.query(f'index == \"{col}\"').dropna(axis=1).values.flatten()\n",
    "\n",
    "            for lag in lag_vals:\n",
    "                dataframe[f'{col}_lag_{int(lag)}'] = dataframe[col].shift(int(lag))\n",
    "            \n",
    "            dataframe = dataframe.dropna()\n",
    "            dict_diff[col] = dataframe\n",
    "    else:\n",
    "        for c, col in enumerate(df.columns):\n",
    "            dataframe = pd.DataFrame(df[col], index=df.index, columns=[col])\n",
    "            lag_vals = lags_df.query(f'index == \"{col}\"').dropna(axis=1).values.flatten()\n",
    "\n",
    "            for lag in lag_vals:\n",
    "                dataframe[f'{col}_lag_{int(lag)}'] = dataframe[col].shift(int(lag))\n",
    "            \n",
    "            dataframe = dataframe.dropna()\n",
    "            dict_diff[col] = dataframe\n",
    "            \n",
    "    return dict_diff\n",
    "\n",
    "\n",
    "# Criação da lista de querys para a rede bayesiana\n",
    "def query_tuple_model(df):\n",
    "    target = df.columns[0]\n",
    "    list_tuples = [(col, target) for col in df.columns if col != target]\n",
    "    \n",
    "    return list_tuples\n",
    "\n",
    "\n",
    "# Criação do array com as médias de cada bin\n",
    "def bin_means(discretizer, var_index=0):\n",
    "    bin_edges = discretizer.bin_edges_[var_index]\n",
    "    bin_means = np.array([(bin_edges[c] + bin_edges[c+1]) / 2 for c in range(len(bin_edges)-1)])\n",
    "    \n",
    "    return bin_means\n",
    "\n",
    "\n",
    "# Split de treino e teste\n",
    "def split_data(data, test_proportion):\n",
    "    test_size = math.ceil(len(data) * test_proportion)\n",
    "    train_size = len(data) - test_size\n",
    "\n",
    "    train = data[:train_size]\n",
    "    test = data[train_size:train_size + test_size]\n",
    "    return train, test\n",
    "\n",
    "\n",
    "def logit_transform(dataframe, inverse=False):\n",
    "    index = dataframe.index\n",
    "    columns = dataframe.columns\n",
    "    dataframe = dataframe.values\n",
    "    if inverse is False:\n",
    "        return pd.DataFrame(1 / (1 + np.exp(-dataframe)), index=index, columns=columns)\n",
    "    else:\n",
    "        return pd.DataFrame(np.log(dataframe / (1 - dataframe)), index=index, columns=columns)\n",
    "    \n",
    "    \n"
   ]
  },
  {
   "cell_type": "markdown",
   "id": "1983317c",
   "metadata": {},
   "source": [
    "## Modelagem"
   ]
  },
  {
   "cell_type": "code",
   "execution_count": 27,
   "id": "de27956b",
   "metadata": {},
   "outputs": [],
   "source": [
    "def u_theil(y_true, y_pred):\n",
    "    numerator = np.sum((y_true - y_pred)**2)\n",
    "    denominator = np.sum(y_true[1:] - shift(y_true, 1)[1:])**2\n",
    "    \n",
    "    return numerator/denominator\n",
    "\n",
    "# Cálculo das métricas para redes bayesianas\n",
    "def calculate_metrics_individual_models_bn(real, preds, col):\n",
    "    return pd.DataFrame({'MAE': mae(real, preds),\n",
    "                         'MAPE': mape(np.array(real) + 1, np.array(preds) + 1),\n",
    "                         'U_theil': u_theil(real, preds)}, index=[col])\n",
    "                        #  'RMSE': rmse(real, preds)}, index=[col])\n",
    "                         \n",
    " "
   ]
  },
  {
   "cell_type": "markdown",
   "id": "6f54d913",
   "metadata": {},
   "source": [
    "## Plotagem"
   ]
  },
  {
   "cell_type": "code",
   "execution_count": 28,
   "id": "bd871fbe",
   "metadata": {},
   "outputs": [],
   "source": [
    "def plot_regions(dataframe, date_column, count_column, region_column):\n",
    "    # Calculando a data correspondente a 80% do tamanho da série\n",
    "    if date_column not in dataframe.columns:\n",
    "        total_dates = dataframe.index.values\n",
    "        cutoff_index = int(len(total_dates) * 0.8)\n",
    "        cutoff_date = total_dates[cutoff_index]\n",
    "    else:\n",
    "        total_dates = dataframe[date_column].sort_values().unique()\n",
    "        cutoff_index = int(len(total_dates) * 0.8)\n",
    "        cutoff_date = total_dates[cutoff_index]\n",
    "\n",
    "    # Obtendo as regiões únicas\n",
    "    unique_regions = dataframe.columns\n",
    "    num_regions = len(unique_regions)\n",
    "\n",
    "    # Criando o subplot com 2 colunas\n",
    "    rows = (num_regions + 1) // 2\n",
    "    fig = make_subplots(rows=rows, cols=2, subplot_titles=unique_regions)\n",
    "\n",
    "    # Adicionando os gráficos para cada região\n",
    "    for c, region in enumerate(unique_regions):\n",
    "        region_data = dataframe.iloc[:, c]\n",
    "        row = (c // 2) + 1\n",
    "        col = (c % 2) + 1\n",
    "\n",
    "        # Adicionando a linha do gráfico\n",
    "        fig.add_trace(\n",
    "            go.Scatter(x=total_dates, y=region_data, mode='lines', name=region),\n",
    "            row=row, col=col\n",
    "        )\n",
    "\n",
    "        # Adicionando a linha vertical\n",
    "        fig.add_trace(\n",
    "            go.Scatter(x=[cutoff_date, cutoff_date], y=[0, region_data.max()],\n",
    "                       mode='lines', line=dict(dash='dash', color='red'), name='80% da série'),\n",
    "            row=row, col=col\n",
    "        )\n",
    "\n",
    "    # Atualizando o layout\n",
    "    fig.update_layout(height=rows * 300, width=900, title_text=\"Queimadas por Região\", showlegend=False)\n",
    "    fig.update_xaxes(title_text=\"Data\")\n",
    "    fig.update_yaxes(title_text=\"Nº Queimadas\")\n",
    "\n",
    "    # Exibindo o gráfico\n",
    "    fig.show()\n",
    "\n",
    "\n",
    "def plotar_bn(dataframe, bn_preds):\n",
    "    starting_date = dataframe.index[0]\n",
    "    fig, axes = plt.subplots(nrows=7, ncols=2, figsize=(10, 15))\n",
    "    axes = axes.flatten()\n",
    "    date_df = pd.DataFrame(index=bn_preds.columns)\n",
    "    for c, col in enumerate(dataframe.columns):\n",
    "        plot_bn = bn_preds[f'{col}_preds'].dropna()\n",
    "        \n",
    "        dataframe_index = pd.date_range(start=starting_date, periods=len(dataframe), freq='MS')\n",
    "        bn_index = len(dataframe) - len(plot_bn)\n",
    "        bn_index = dataframe_index[bn_index:]\n",
    "        inicio_teste = bn_index[int(len(bn_index)*.8)]\n",
    "\n",
    "        axes[c].plot(dataframe_index, dataframe[col].values, label=f'{col}_data')\n",
    "        axes[c].plot(bn_index, plot_bn.values, label=f'{col}_BN')\n",
    "        axes[c].axvline(x=inicio_teste, color='red', linestyle='--', label='Início Teste')\n",
    "        axes[c].set_title(f'{col}')\n",
    "        # axes[c].legend()\n",
    "        date_df.loc[col, 'Data_teste'], date_df.loc[col, 'idx'] = inicio_teste.date(), int(len(bn_index)*.8)\n",
    "        \n",
    "    plt.tight_layout()\n",
    "    plt.show()\n",
    "    return date_df"
   ]
  },
  {
   "cell_type": "markdown",
   "id": "2ae2785d",
   "metadata": {},
   "source": [
    "# Pré-processamento"
   ]
  },
  {
   "cell_type": "code",
   "execution_count": 29,
   "id": "395b3a20",
   "metadata": {},
   "outputs": [
    {
     "data": {
      "text/html": [
       "<div>\n",
       "<style scoped>\n",
       "    .dataframe tbody tr th:only-of-type {\n",
       "        vertical-align: middle;\n",
       "    }\n",
       "\n",
       "    .dataframe tbody tr th {\n",
       "        vertical-align: top;\n",
       "    }\n",
       "\n",
       "    .dataframe thead th {\n",
       "        text-align: right;\n",
       "    }\n",
       "</style>\n",
       "<table border=\"1\" class=\"dataframe\">\n",
       "  <thead>\n",
       "    <tr style=\"text-align: right;\">\n",
       "      <th></th>\n",
       "      <th>CARIRI</th>\n",
       "    </tr>\n",
       "  </thead>\n",
       "  <tbody>\n",
       "    <tr>\n",
       "      <th>1998-07-01</th>\n",
       "      <td>3</td>\n",
       "    </tr>\n",
       "    <tr>\n",
       "      <th>1998-08-01</th>\n",
       "      <td>5</td>\n",
       "    </tr>\n",
       "    <tr>\n",
       "      <th>1998-09-01</th>\n",
       "      <td>136</td>\n",
       "    </tr>\n",
       "    <tr>\n",
       "      <th>1998-10-01</th>\n",
       "      <td>401</td>\n",
       "    </tr>\n",
       "    <tr>\n",
       "      <th>1998-11-01</th>\n",
       "      <td>164</td>\n",
       "    </tr>\n",
       "    <tr>\n",
       "      <th>...</th>\n",
       "      <td>...</td>\n",
       "    </tr>\n",
       "    <tr>\n",
       "      <th>2024-11-01</th>\n",
       "      <td>3660</td>\n",
       "    </tr>\n",
       "    <tr>\n",
       "      <th>2024-12-01</th>\n",
       "      <td>2893</td>\n",
       "    </tr>\n",
       "    <tr>\n",
       "      <th>2025-01-01</th>\n",
       "      <td>544</td>\n",
       "    </tr>\n",
       "    <tr>\n",
       "      <th>2025-02-01</th>\n",
       "      <td>348</td>\n",
       "    </tr>\n",
       "    <tr>\n",
       "      <th>2025-03-01</th>\n",
       "      <td>114</td>\n",
       "    </tr>\n",
       "  </tbody>\n",
       "</table>\n",
       "<p>321 rows × 1 columns</p>\n",
       "</div>"
      ],
      "text/plain": [
       "            CARIRI\n",
       "1998-07-01       3\n",
       "1998-08-01       5\n",
       "1998-09-01     136\n",
       "1998-10-01     401\n",
       "1998-11-01     164\n",
       "...            ...\n",
       "2024-11-01    3660\n",
       "2024-12-01    2893\n",
       "2025-01-01     544\n",
       "2025-02-01     348\n",
       "2025-03-01     114\n",
       "\n",
       "[321 rows x 1 columns]"
      ]
     },
     "metadata": {},
     "output_type": "display_data"
    }
   ],
   "source": [
    "# Pré-processamento PDF\n",
    "PATH_pdf = r'C:\\Users\\Gabriel Lucena\\OneDrive\\Documentos Importantes\\Mestrado\\Disciplinas\\Mét. Quant\\Artigo\\Data\\2022_APRECE_Lista de regiões.pdf'\n",
    "pdf = pdf_Preprocessing(path=PATH_pdf)\n",
    "\n",
    "\n",
    "# Pré-processamento queimadas\n",
    "PATH_queim = r'C:\\Users\\Gabriel Lucena\\OneDrive\\Documentos Importantes\\Mestrado\\Disciplinas\\Mét. Quant\\Artigo\\Data\\Queimadas'\n",
    "files_name = os.listdir(PATH_queim)\n",
    "inpe = queimadas_Preprocessing(path=PATH_queim, files_names=files_name)\n",
    "\n",
    "\n",
    "# Criando agregado mensal empilhado de cada regiao\n",
    "agg_stack = regiao_mensal_Preprocessing(dataframe_regioes=pdf, dataframe_queimadas=inpe)\n",
    "\n",
    "\n",
    "# Criando agregado para cada região\n",
    "agg_region = pd.DataFrame(agg_stack.pivot(index='Data', columns='Regiao', values='Count').to_numpy(), \n",
    "                          index=agg_stack['Data'].unique(), columns=agg_stack['Regiao'].unique())\n",
    "\n",
    "# Usar o conjunto para a região do Cariri\n",
    "data_2use = pd.DataFrame(agg_region['CARIRI'], \n",
    "                         index=agg_region.index, columns=['CARIRI'])\n",
    "display(data_2use)\n",
    "\n",
    "\n",
    "# proporção do teste\n",
    "test_proportion = 0.2\n",
    "test_index = int(len(agg_region)*(1-test_proportion))"
   ]
  },
  {
   "cell_type": "markdown",
   "id": "53e28686",
   "metadata": {},
   "source": [
    "# Descritiva"
   ]
  },
  {
   "cell_type": "code",
   "execution_count": 30,
   "id": "76a983ad",
   "metadata": {},
   "outputs": [
    {
     "data": {
      "application/vnd.plotly.v1+json": {
       "config": {
        "plotlyServerURL": "https://plot.ly"
       },
       "data": [
        {
         "mode": "lines",
         "name": "CARIRI",
         "type": "scatter",
         "x": [
          "1998-07-01T00:00:00.000000000",
          "1998-08-01T00:00:00.000000000",
          "1998-09-01T00:00:00.000000000",
          "1998-10-01T00:00:00.000000000",
          "1998-11-01T00:00:00.000000000",
          "1998-12-01T00:00:00.000000000",
          "1999-01-01T00:00:00.000000000",
          "1999-02-01T00:00:00.000000000",
          "1999-03-01T00:00:00.000000000",
          "1999-04-01T00:00:00.000000000",
          "1999-05-01T00:00:00.000000000",
          "1999-06-01T00:00:00.000000000",
          "1999-07-01T00:00:00.000000000",
          "1999-08-01T00:00:00.000000000",
          "1999-09-01T00:00:00.000000000",
          "1999-10-01T00:00:00.000000000",
          "1999-11-01T00:00:00.000000000",
          "1999-12-01T00:00:00.000000000",
          "2000-01-01T00:00:00.000000000",
          "2000-02-01T00:00:00.000000000",
          "2000-03-01T00:00:00.000000000",
          "2000-04-01T00:00:00.000000000",
          "2000-05-01T00:00:00.000000000",
          "2000-06-01T00:00:00.000000000",
          "2000-07-01T00:00:00.000000000",
          "2000-08-01T00:00:00.000000000",
          "2000-09-01T00:00:00.000000000",
          "2000-10-01T00:00:00.000000000",
          "2000-11-01T00:00:00.000000000",
          "2000-12-01T00:00:00.000000000",
          "2001-01-01T00:00:00.000000000",
          "2001-02-01T00:00:00.000000000",
          "2001-03-01T00:00:00.000000000",
          "2001-04-01T00:00:00.000000000",
          "2001-05-01T00:00:00.000000000",
          "2001-06-01T00:00:00.000000000",
          "2001-07-01T00:00:00.000000000",
          "2001-08-01T00:00:00.000000000",
          "2001-09-01T00:00:00.000000000",
          "2001-10-01T00:00:00.000000000",
          "2001-11-01T00:00:00.000000000",
          "2001-12-01T00:00:00.000000000",
          "2002-01-01T00:00:00.000000000",
          "2002-02-01T00:00:00.000000000",
          "2002-03-01T00:00:00.000000000",
          "2002-04-01T00:00:00.000000000",
          "2002-05-01T00:00:00.000000000",
          "2002-06-01T00:00:00.000000000",
          "2002-07-01T00:00:00.000000000",
          "2002-08-01T00:00:00.000000000",
          "2002-09-01T00:00:00.000000000",
          "2002-10-01T00:00:00.000000000",
          "2002-11-01T00:00:00.000000000",
          "2002-12-01T00:00:00.000000000",
          "2003-01-01T00:00:00.000000000",
          "2003-02-01T00:00:00.000000000",
          "2003-03-01T00:00:00.000000000",
          "2003-04-01T00:00:00.000000000",
          "2003-05-01T00:00:00.000000000",
          "2003-06-01T00:00:00.000000000",
          "2003-07-01T00:00:00.000000000",
          "2003-08-01T00:00:00.000000000",
          "2003-09-01T00:00:00.000000000",
          "2003-10-01T00:00:00.000000000",
          "2003-11-01T00:00:00.000000000",
          "2003-12-01T00:00:00.000000000",
          "2004-01-01T00:00:00.000000000",
          "2004-02-01T00:00:00.000000000",
          "2004-03-01T00:00:00.000000000",
          "2004-04-01T00:00:00.000000000",
          "2004-05-01T00:00:00.000000000",
          "2004-06-01T00:00:00.000000000",
          "2004-07-01T00:00:00.000000000",
          "2004-08-01T00:00:00.000000000",
          "2004-09-01T00:00:00.000000000",
          "2004-10-01T00:00:00.000000000",
          "2004-11-01T00:00:00.000000000",
          "2004-12-01T00:00:00.000000000",
          "2005-01-01T00:00:00.000000000",
          "2005-02-01T00:00:00.000000000",
          "2005-03-01T00:00:00.000000000",
          "2005-04-01T00:00:00.000000000",
          "2005-05-01T00:00:00.000000000",
          "2005-06-01T00:00:00.000000000",
          "2005-07-01T00:00:00.000000000",
          "2005-08-01T00:00:00.000000000",
          "2005-09-01T00:00:00.000000000",
          "2005-10-01T00:00:00.000000000",
          "2005-11-01T00:00:00.000000000",
          "2005-12-01T00:00:00.000000000",
          "2006-01-01T00:00:00.000000000",
          "2006-02-01T00:00:00.000000000",
          "2006-03-01T00:00:00.000000000",
          "2006-04-01T00:00:00.000000000",
          "2006-05-01T00:00:00.000000000",
          "2006-06-01T00:00:00.000000000",
          "2006-07-01T00:00:00.000000000",
          "2006-08-01T00:00:00.000000000",
          "2006-09-01T00:00:00.000000000",
          "2006-10-01T00:00:00.000000000",
          "2006-11-01T00:00:00.000000000",
          "2006-12-01T00:00:00.000000000",
          "2007-01-01T00:00:00.000000000",
          "2007-02-01T00:00:00.000000000",
          "2007-03-01T00:00:00.000000000",
          "2007-04-01T00:00:00.000000000",
          "2007-05-01T00:00:00.000000000",
          "2007-06-01T00:00:00.000000000",
          "2007-07-01T00:00:00.000000000",
          "2007-08-01T00:00:00.000000000",
          "2007-09-01T00:00:00.000000000",
          "2007-10-01T00:00:00.000000000",
          "2007-11-01T00:00:00.000000000",
          "2007-12-01T00:00:00.000000000",
          "2008-01-01T00:00:00.000000000",
          "2008-02-01T00:00:00.000000000",
          "2008-03-01T00:00:00.000000000",
          "2008-04-01T00:00:00.000000000",
          "2008-05-01T00:00:00.000000000",
          "2008-06-01T00:00:00.000000000",
          "2008-07-01T00:00:00.000000000",
          "2008-08-01T00:00:00.000000000",
          "2008-09-01T00:00:00.000000000",
          "2008-10-01T00:00:00.000000000",
          "2008-11-01T00:00:00.000000000",
          "2008-12-01T00:00:00.000000000",
          "2009-01-01T00:00:00.000000000",
          "2009-02-01T00:00:00.000000000",
          "2009-03-01T00:00:00.000000000",
          "2009-04-01T00:00:00.000000000",
          "2009-05-01T00:00:00.000000000",
          "2009-06-01T00:00:00.000000000",
          "2009-07-01T00:00:00.000000000",
          "2009-08-01T00:00:00.000000000",
          "2009-09-01T00:00:00.000000000",
          "2009-10-01T00:00:00.000000000",
          "2009-11-01T00:00:00.000000000",
          "2009-12-01T00:00:00.000000000",
          "2010-01-01T00:00:00.000000000",
          "2010-02-01T00:00:00.000000000",
          "2010-03-01T00:00:00.000000000",
          "2010-04-01T00:00:00.000000000",
          "2010-05-01T00:00:00.000000000",
          "2010-06-01T00:00:00.000000000",
          "2010-07-01T00:00:00.000000000",
          "2010-08-01T00:00:00.000000000",
          "2010-09-01T00:00:00.000000000",
          "2010-10-01T00:00:00.000000000",
          "2010-11-01T00:00:00.000000000",
          "2010-12-01T00:00:00.000000000",
          "2011-01-01T00:00:00.000000000",
          "2011-02-01T00:00:00.000000000",
          "2011-03-01T00:00:00.000000000",
          "2011-04-01T00:00:00.000000000",
          "2011-05-01T00:00:00.000000000",
          "2011-06-01T00:00:00.000000000",
          "2011-07-01T00:00:00.000000000",
          "2011-08-01T00:00:00.000000000",
          "2011-09-01T00:00:00.000000000",
          "2011-10-01T00:00:00.000000000",
          "2011-11-01T00:00:00.000000000",
          "2011-12-01T00:00:00.000000000",
          "2012-01-01T00:00:00.000000000",
          "2012-02-01T00:00:00.000000000",
          "2012-03-01T00:00:00.000000000",
          "2012-04-01T00:00:00.000000000",
          "2012-05-01T00:00:00.000000000",
          "2012-06-01T00:00:00.000000000",
          "2012-07-01T00:00:00.000000000",
          "2012-08-01T00:00:00.000000000",
          "2012-09-01T00:00:00.000000000",
          "2012-10-01T00:00:00.000000000",
          "2012-11-01T00:00:00.000000000",
          "2012-12-01T00:00:00.000000000",
          "2013-01-01T00:00:00.000000000",
          "2013-02-01T00:00:00.000000000",
          "2013-03-01T00:00:00.000000000",
          "2013-04-01T00:00:00.000000000",
          "2013-05-01T00:00:00.000000000",
          "2013-06-01T00:00:00.000000000",
          "2013-07-01T00:00:00.000000000",
          "2013-08-01T00:00:00.000000000",
          "2013-09-01T00:00:00.000000000",
          "2013-10-01T00:00:00.000000000",
          "2013-11-01T00:00:00.000000000",
          "2013-12-01T00:00:00.000000000",
          "2014-01-01T00:00:00.000000000",
          "2014-02-01T00:00:00.000000000",
          "2014-03-01T00:00:00.000000000",
          "2014-04-01T00:00:00.000000000",
          "2014-05-01T00:00:00.000000000",
          "2014-06-01T00:00:00.000000000",
          "2014-07-01T00:00:00.000000000",
          "2014-08-01T00:00:00.000000000",
          "2014-09-01T00:00:00.000000000",
          "2014-10-01T00:00:00.000000000",
          "2014-11-01T00:00:00.000000000",
          "2014-12-01T00:00:00.000000000",
          "2015-01-01T00:00:00.000000000",
          "2015-02-01T00:00:00.000000000",
          "2015-03-01T00:00:00.000000000",
          "2015-04-01T00:00:00.000000000",
          "2015-05-01T00:00:00.000000000",
          "2015-06-01T00:00:00.000000000",
          "2015-07-01T00:00:00.000000000",
          "2015-08-01T00:00:00.000000000",
          "2015-09-01T00:00:00.000000000",
          "2015-10-01T00:00:00.000000000",
          "2015-11-01T00:00:00.000000000",
          "2015-12-01T00:00:00.000000000",
          "2016-01-01T00:00:00.000000000",
          "2016-02-01T00:00:00.000000000",
          "2016-03-01T00:00:00.000000000",
          "2016-04-01T00:00:00.000000000",
          "2016-05-01T00:00:00.000000000",
          "2016-06-01T00:00:00.000000000",
          "2016-07-01T00:00:00.000000000",
          "2016-08-01T00:00:00.000000000",
          "2016-09-01T00:00:00.000000000",
          "2016-10-01T00:00:00.000000000",
          "2016-11-01T00:00:00.000000000",
          "2016-12-01T00:00:00.000000000",
          "2017-01-01T00:00:00.000000000",
          "2017-02-01T00:00:00.000000000",
          "2017-03-01T00:00:00.000000000",
          "2017-04-01T00:00:00.000000000",
          "2017-05-01T00:00:00.000000000",
          "2017-06-01T00:00:00.000000000",
          "2017-07-01T00:00:00.000000000",
          "2017-08-01T00:00:00.000000000",
          "2017-09-01T00:00:00.000000000",
          "2017-10-01T00:00:00.000000000",
          "2017-11-01T00:00:00.000000000",
          "2017-12-01T00:00:00.000000000",
          "2018-01-01T00:00:00.000000000",
          "2018-02-01T00:00:00.000000000",
          "2018-03-01T00:00:00.000000000",
          "2018-04-01T00:00:00.000000000",
          "2018-05-01T00:00:00.000000000",
          "2018-06-01T00:00:00.000000000",
          "2018-07-01T00:00:00.000000000",
          "2018-08-01T00:00:00.000000000",
          "2018-09-01T00:00:00.000000000",
          "2018-10-01T00:00:00.000000000",
          "2018-11-01T00:00:00.000000000",
          "2018-12-01T00:00:00.000000000",
          "2019-01-01T00:00:00.000000000",
          "2019-02-01T00:00:00.000000000",
          "2019-03-01T00:00:00.000000000",
          "2019-04-01T00:00:00.000000000",
          "2019-05-01T00:00:00.000000000",
          "2019-06-01T00:00:00.000000000",
          "2019-07-01T00:00:00.000000000",
          "2019-08-01T00:00:00.000000000",
          "2019-09-01T00:00:00.000000000",
          "2019-10-01T00:00:00.000000000",
          "2019-11-01T00:00:00.000000000",
          "2019-12-01T00:00:00.000000000",
          "2020-01-01T00:00:00.000000000",
          "2020-02-01T00:00:00.000000000",
          "2020-03-01T00:00:00.000000000",
          "2020-04-01T00:00:00.000000000",
          "2020-05-01T00:00:00.000000000",
          "2020-06-01T00:00:00.000000000",
          "2020-07-01T00:00:00.000000000",
          "2020-08-01T00:00:00.000000000",
          "2020-09-01T00:00:00.000000000",
          "2020-10-01T00:00:00.000000000",
          "2020-11-01T00:00:00.000000000",
          "2020-12-01T00:00:00.000000000",
          "2021-01-01T00:00:00.000000000",
          "2021-02-01T00:00:00.000000000",
          "2021-03-01T00:00:00.000000000",
          "2021-04-01T00:00:00.000000000",
          "2021-05-01T00:00:00.000000000",
          "2021-06-01T00:00:00.000000000",
          "2021-07-01T00:00:00.000000000",
          "2021-08-01T00:00:00.000000000",
          "2021-09-01T00:00:00.000000000",
          "2021-10-01T00:00:00.000000000",
          "2021-11-01T00:00:00.000000000",
          "2021-12-01T00:00:00.000000000",
          "2022-01-01T00:00:00.000000000",
          "2022-02-01T00:00:00.000000000",
          "2022-03-01T00:00:00.000000000",
          "2022-04-01T00:00:00.000000000",
          "2022-05-01T00:00:00.000000000",
          "2022-06-01T00:00:00.000000000",
          "2022-07-01T00:00:00.000000000",
          "2022-08-01T00:00:00.000000000",
          "2022-09-01T00:00:00.000000000",
          "2022-10-01T00:00:00.000000000",
          "2022-11-01T00:00:00.000000000",
          "2022-12-01T00:00:00.000000000",
          "2023-01-01T00:00:00.000000000",
          "2023-02-01T00:00:00.000000000",
          "2023-03-01T00:00:00.000000000",
          "2023-04-01T00:00:00.000000000",
          "2023-05-01T00:00:00.000000000",
          "2023-06-01T00:00:00.000000000",
          "2023-07-01T00:00:00.000000000",
          "2023-08-01T00:00:00.000000000",
          "2023-09-01T00:00:00.000000000",
          "2023-10-01T00:00:00.000000000",
          "2023-11-01T00:00:00.000000000",
          "2023-12-01T00:00:00.000000000",
          "2024-01-01T00:00:00.000000000",
          "2024-02-01T00:00:00.000000000",
          "2024-03-01T00:00:00.000000000",
          "2024-04-01T00:00:00.000000000",
          "2024-05-01T00:00:00.000000000",
          "2024-06-01T00:00:00.000000000",
          "2024-07-01T00:00:00.000000000",
          "2024-08-01T00:00:00.000000000",
          "2024-09-01T00:00:00.000000000",
          "2024-10-01T00:00:00.000000000",
          "2024-11-01T00:00:00.000000000",
          "2024-12-01T00:00:00.000000000",
          "2025-01-01T00:00:00.000000000",
          "2025-02-01T00:00:00.000000000",
          "2025-03-01T00:00:00.000000000"
         ],
         "xaxis": "x",
         "y": [
          3,
          5,
          136,
          401,
          164,
          75,
          4,
          1,
          0,
          0,
          0,
          5,
          3,
          5,
          39,
          140,
          121,
          86,
          1,
          1,
          1,
          0,
          1,
          1,
          1,
          15,
          30,
          304,
          178,
          161,
          8,
          0,
          0,
          0,
          0,
          2,
          9,
          40,
          338,
          751,
          581,
          76,
          0,
          8,
          2,
          1,
          1,
          0,
          10,
          37,
          175,
          1216,
          1400,
          506,
          67,
          4,
          3,
          1,
          3,
          4,
          16,
          36,
          368,
          1722,
          2676,
          1038,
          40,
          0,
          0,
          0,
          0,
          0,
          6,
          18,
          117,
          884,
          1990,
          1781,
          168,
          13,
          3,
          1,
          1,
          5,
          21,
          16,
          148,
          1109,
          1564,
          429,
          55,
          8,
          2,
          0,
          0,
          1,
          4,
          12,
          69,
          330,
          1227,
          1235,
          80,
          0,
          1,
          2,
          0,
          0,
          9,
          23,
          139,
          821,
          1515,
          825,
          71,
          9,
          0,
          1,
          0,
          2,
          7,
          12,
          66,
          425,
          2552,
          1416,
          191,
          2,
          3,
          0,
          0,
          0,
          2,
          8,
          57,
          306,
          1249,
          910,
          106,
          23,
          13,
          1,
          3,
          4,
          18,
          39,
          113,
          303,
          795,
          86,
          10,
          3,
          3,
          2,
          2,
          7,
          5,
          12,
          137,
          284,
          414,
          383,
          75,
          87,
          31,
          13,
          55,
          77,
          95,
          174,
          1230,
          2998,
          1240,
          550,
          207,
          81,
          40,
          4,
          12,
          14,
          40,
          88,
          405,
          1010,
          946,
          468,
          221,
          9,
          5,
          4,
          8,
          9,
          57,
          81,
          270,
          745,
          1091,
          821,
          364,
          103,
          18,
          19,
          12,
          22,
          57,
          145,
          431,
          974,
          1495,
          701,
          161,
          79,
          30,
          18,
          17,
          36,
          117,
          233,
          562,
          1837,
          1202,
          583,
          190,
          18,
          6,
          12,
          22,
          20,
          36,
          145,
          341,
          1701,
          1506,
          938,
          197,
          37,
          23,
          2,
          7,
          26,
          60,
          146,
          593,
          1110,
          1745,
          506,
          363,
          53,
          32,
          5,
          36,
          45,
          60,
          389,
          1752,
          4734,
          4343,
          3404,
          326,
          65,
          5,
          8,
          13,
          31,
          131,
          233,
          951,
          2420,
          3697,
          2393,
          472,
          181,
          50,
          33,
          83,
          91,
          127,
          276,
          990,
          3902,
          3935,
          1550,
          127,
          65,
          20,
          10,
          20,
          38,
          89,
          180,
          794,
          1983,
          2594,
          2382,
          341,
          112,
          66,
          28,
          35,
          90,
          225,
          424,
          3079,
          7126,
          4585,
          1712,
          1030,
          203,
          97,
          11,
          80,
          216,
          242,
          768,
          907,
          2825,
          3660,
          2893,
          544,
          348,
          114
         ],
         "yaxis": "y"
        },
        {
         "line": {
          "color": "red",
          "dash": "dash"
         },
         "mode": "lines",
         "name": "80% da série",
         "type": "scatter",
         "x": [
          1572566400000000000,
          1572566400000000000
         ],
         "xaxis": "x",
         "y": [
          0,
          7126
         ],
         "yaxis": "y"
        }
       ],
       "layout": {
        "annotations": [
         {
          "font": {
           "size": 16
          },
          "showarrow": false,
          "text": "CARIRI",
          "x": 0.225,
          "xanchor": "center",
          "xref": "paper",
          "y": 1,
          "yanchor": "bottom",
          "yref": "paper"
         }
        ],
        "height": 300,
        "showlegend": false,
        "template": {
         "data": {
          "bar": [
           {
            "error_x": {
             "color": "#2a3f5f"
            },
            "error_y": {
             "color": "#2a3f5f"
            },
            "marker": {
             "line": {
              "color": "#E5ECF6",
              "width": 0.5
             },
             "pattern": {
              "fillmode": "overlay",
              "size": 10,
              "solidity": 0.2
             }
            },
            "type": "bar"
           }
          ],
          "barpolar": [
           {
            "marker": {
             "line": {
              "color": "#E5ECF6",
              "width": 0.5
             },
             "pattern": {
              "fillmode": "overlay",
              "size": 10,
              "solidity": 0.2
             }
            },
            "type": "barpolar"
           }
          ],
          "carpet": [
           {
            "aaxis": {
             "endlinecolor": "#2a3f5f",
             "gridcolor": "white",
             "linecolor": "white",
             "minorgridcolor": "white",
             "startlinecolor": "#2a3f5f"
            },
            "baxis": {
             "endlinecolor": "#2a3f5f",
             "gridcolor": "white",
             "linecolor": "white",
             "minorgridcolor": "white",
             "startlinecolor": "#2a3f5f"
            },
            "type": "carpet"
           }
          ],
          "choropleth": [
           {
            "colorbar": {
             "outlinewidth": 0,
             "ticks": ""
            },
            "type": "choropleth"
           }
          ],
          "contour": [
           {
            "colorbar": {
             "outlinewidth": 0,
             "ticks": ""
            },
            "colorscale": [
             [
              0,
              "#0d0887"
             ],
             [
              0.1111111111111111,
              "#46039f"
             ],
             [
              0.2222222222222222,
              "#7201a8"
             ],
             [
              0.3333333333333333,
              "#9c179e"
             ],
             [
              0.4444444444444444,
              "#bd3786"
             ],
             [
              0.5555555555555556,
              "#d8576b"
             ],
             [
              0.6666666666666666,
              "#ed7953"
             ],
             [
              0.7777777777777778,
              "#fb9f3a"
             ],
             [
              0.8888888888888888,
              "#fdca26"
             ],
             [
              1,
              "#f0f921"
             ]
            ],
            "type": "contour"
           }
          ],
          "contourcarpet": [
           {
            "colorbar": {
             "outlinewidth": 0,
             "ticks": ""
            },
            "type": "contourcarpet"
           }
          ],
          "heatmap": [
           {
            "colorbar": {
             "outlinewidth": 0,
             "ticks": ""
            },
            "colorscale": [
             [
              0,
              "#0d0887"
             ],
             [
              0.1111111111111111,
              "#46039f"
             ],
             [
              0.2222222222222222,
              "#7201a8"
             ],
             [
              0.3333333333333333,
              "#9c179e"
             ],
             [
              0.4444444444444444,
              "#bd3786"
             ],
             [
              0.5555555555555556,
              "#d8576b"
             ],
             [
              0.6666666666666666,
              "#ed7953"
             ],
             [
              0.7777777777777778,
              "#fb9f3a"
             ],
             [
              0.8888888888888888,
              "#fdca26"
             ],
             [
              1,
              "#f0f921"
             ]
            ],
            "type": "heatmap"
           }
          ],
          "heatmapgl": [
           {
            "colorbar": {
             "outlinewidth": 0,
             "ticks": ""
            },
            "colorscale": [
             [
              0,
              "#0d0887"
             ],
             [
              0.1111111111111111,
              "#46039f"
             ],
             [
              0.2222222222222222,
              "#7201a8"
             ],
             [
              0.3333333333333333,
              "#9c179e"
             ],
             [
              0.4444444444444444,
              "#bd3786"
             ],
             [
              0.5555555555555556,
              "#d8576b"
             ],
             [
              0.6666666666666666,
              "#ed7953"
             ],
             [
              0.7777777777777778,
              "#fb9f3a"
             ],
             [
              0.8888888888888888,
              "#fdca26"
             ],
             [
              1,
              "#f0f921"
             ]
            ],
            "type": "heatmapgl"
           }
          ],
          "histogram": [
           {
            "marker": {
             "pattern": {
              "fillmode": "overlay",
              "size": 10,
              "solidity": 0.2
             }
            },
            "type": "histogram"
           }
          ],
          "histogram2d": [
           {
            "colorbar": {
             "outlinewidth": 0,
             "ticks": ""
            },
            "colorscale": [
             [
              0,
              "#0d0887"
             ],
             [
              0.1111111111111111,
              "#46039f"
             ],
             [
              0.2222222222222222,
              "#7201a8"
             ],
             [
              0.3333333333333333,
              "#9c179e"
             ],
             [
              0.4444444444444444,
              "#bd3786"
             ],
             [
              0.5555555555555556,
              "#d8576b"
             ],
             [
              0.6666666666666666,
              "#ed7953"
             ],
             [
              0.7777777777777778,
              "#fb9f3a"
             ],
             [
              0.8888888888888888,
              "#fdca26"
             ],
             [
              1,
              "#f0f921"
             ]
            ],
            "type": "histogram2d"
           }
          ],
          "histogram2dcontour": [
           {
            "colorbar": {
             "outlinewidth": 0,
             "ticks": ""
            },
            "colorscale": [
             [
              0,
              "#0d0887"
             ],
             [
              0.1111111111111111,
              "#46039f"
             ],
             [
              0.2222222222222222,
              "#7201a8"
             ],
             [
              0.3333333333333333,
              "#9c179e"
             ],
             [
              0.4444444444444444,
              "#bd3786"
             ],
             [
              0.5555555555555556,
              "#d8576b"
             ],
             [
              0.6666666666666666,
              "#ed7953"
             ],
             [
              0.7777777777777778,
              "#fb9f3a"
             ],
             [
              0.8888888888888888,
              "#fdca26"
             ],
             [
              1,
              "#f0f921"
             ]
            ],
            "type": "histogram2dcontour"
           }
          ],
          "mesh3d": [
           {
            "colorbar": {
             "outlinewidth": 0,
             "ticks": ""
            },
            "type": "mesh3d"
           }
          ],
          "parcoords": [
           {
            "line": {
             "colorbar": {
              "outlinewidth": 0,
              "ticks": ""
             }
            },
            "type": "parcoords"
           }
          ],
          "pie": [
           {
            "automargin": true,
            "type": "pie"
           }
          ],
          "scatter": [
           {
            "fillpattern": {
             "fillmode": "overlay",
             "size": 10,
             "solidity": 0.2
            },
            "type": "scatter"
           }
          ],
          "scatter3d": [
           {
            "line": {
             "colorbar": {
              "outlinewidth": 0,
              "ticks": ""
             }
            },
            "marker": {
             "colorbar": {
              "outlinewidth": 0,
              "ticks": ""
             }
            },
            "type": "scatter3d"
           }
          ],
          "scattercarpet": [
           {
            "marker": {
             "colorbar": {
              "outlinewidth": 0,
              "ticks": ""
             }
            },
            "type": "scattercarpet"
           }
          ],
          "scattergeo": [
           {
            "marker": {
             "colorbar": {
              "outlinewidth": 0,
              "ticks": ""
             }
            },
            "type": "scattergeo"
           }
          ],
          "scattergl": [
           {
            "marker": {
             "colorbar": {
              "outlinewidth": 0,
              "ticks": ""
             }
            },
            "type": "scattergl"
           }
          ],
          "scattermapbox": [
           {
            "marker": {
             "colorbar": {
              "outlinewidth": 0,
              "ticks": ""
             }
            },
            "type": "scattermapbox"
           }
          ],
          "scatterpolar": [
           {
            "marker": {
             "colorbar": {
              "outlinewidth": 0,
              "ticks": ""
             }
            },
            "type": "scatterpolar"
           }
          ],
          "scatterpolargl": [
           {
            "marker": {
             "colorbar": {
              "outlinewidth": 0,
              "ticks": ""
             }
            },
            "type": "scatterpolargl"
           }
          ],
          "scatterternary": [
           {
            "marker": {
             "colorbar": {
              "outlinewidth": 0,
              "ticks": ""
             }
            },
            "type": "scatterternary"
           }
          ],
          "surface": [
           {
            "colorbar": {
             "outlinewidth": 0,
             "ticks": ""
            },
            "colorscale": [
             [
              0,
              "#0d0887"
             ],
             [
              0.1111111111111111,
              "#46039f"
             ],
             [
              0.2222222222222222,
              "#7201a8"
             ],
             [
              0.3333333333333333,
              "#9c179e"
             ],
             [
              0.4444444444444444,
              "#bd3786"
             ],
             [
              0.5555555555555556,
              "#d8576b"
             ],
             [
              0.6666666666666666,
              "#ed7953"
             ],
             [
              0.7777777777777778,
              "#fb9f3a"
             ],
             [
              0.8888888888888888,
              "#fdca26"
             ],
             [
              1,
              "#f0f921"
             ]
            ],
            "type": "surface"
           }
          ],
          "table": [
           {
            "cells": {
             "fill": {
              "color": "#EBF0F8"
             },
             "line": {
              "color": "white"
             }
            },
            "header": {
             "fill": {
              "color": "#C8D4E3"
             },
             "line": {
              "color": "white"
             }
            },
            "type": "table"
           }
          ]
         },
         "layout": {
          "annotationdefaults": {
           "arrowcolor": "#2a3f5f",
           "arrowhead": 0,
           "arrowwidth": 1
          },
          "autotypenumbers": "strict",
          "coloraxis": {
           "colorbar": {
            "outlinewidth": 0,
            "ticks": ""
           }
          },
          "colorscale": {
           "diverging": [
            [
             0,
             "#8e0152"
            ],
            [
             0.1,
             "#c51b7d"
            ],
            [
             0.2,
             "#de77ae"
            ],
            [
             0.3,
             "#f1b6da"
            ],
            [
             0.4,
             "#fde0ef"
            ],
            [
             0.5,
             "#f7f7f7"
            ],
            [
             0.6,
             "#e6f5d0"
            ],
            [
             0.7,
             "#b8e186"
            ],
            [
             0.8,
             "#7fbc41"
            ],
            [
             0.9,
             "#4d9221"
            ],
            [
             1,
             "#276419"
            ]
           ],
           "sequential": [
            [
             0,
             "#0d0887"
            ],
            [
             0.1111111111111111,
             "#46039f"
            ],
            [
             0.2222222222222222,
             "#7201a8"
            ],
            [
             0.3333333333333333,
             "#9c179e"
            ],
            [
             0.4444444444444444,
             "#bd3786"
            ],
            [
             0.5555555555555556,
             "#d8576b"
            ],
            [
             0.6666666666666666,
             "#ed7953"
            ],
            [
             0.7777777777777778,
             "#fb9f3a"
            ],
            [
             0.8888888888888888,
             "#fdca26"
            ],
            [
             1,
             "#f0f921"
            ]
           ],
           "sequentialminus": [
            [
             0,
             "#0d0887"
            ],
            [
             0.1111111111111111,
             "#46039f"
            ],
            [
             0.2222222222222222,
             "#7201a8"
            ],
            [
             0.3333333333333333,
             "#9c179e"
            ],
            [
             0.4444444444444444,
             "#bd3786"
            ],
            [
             0.5555555555555556,
             "#d8576b"
            ],
            [
             0.6666666666666666,
             "#ed7953"
            ],
            [
             0.7777777777777778,
             "#fb9f3a"
            ],
            [
             0.8888888888888888,
             "#fdca26"
            ],
            [
             1,
             "#f0f921"
            ]
           ]
          },
          "colorway": [
           "#636efa",
           "#EF553B",
           "#00cc96",
           "#ab63fa",
           "#FFA15A",
           "#19d3f3",
           "#FF6692",
           "#B6E880",
           "#FF97FF",
           "#FECB52"
          ],
          "font": {
           "color": "#2a3f5f"
          },
          "geo": {
           "bgcolor": "white",
           "lakecolor": "white",
           "landcolor": "#E5ECF6",
           "showlakes": true,
           "showland": true,
           "subunitcolor": "white"
          },
          "hoverlabel": {
           "align": "left"
          },
          "hovermode": "closest",
          "mapbox": {
           "style": "light"
          },
          "paper_bgcolor": "white",
          "plot_bgcolor": "#E5ECF6",
          "polar": {
           "angularaxis": {
            "gridcolor": "white",
            "linecolor": "white",
            "ticks": ""
           },
           "bgcolor": "#E5ECF6",
           "radialaxis": {
            "gridcolor": "white",
            "linecolor": "white",
            "ticks": ""
           }
          },
          "scene": {
           "xaxis": {
            "backgroundcolor": "#E5ECF6",
            "gridcolor": "white",
            "gridwidth": 2,
            "linecolor": "white",
            "showbackground": true,
            "ticks": "",
            "zerolinecolor": "white"
           },
           "yaxis": {
            "backgroundcolor": "#E5ECF6",
            "gridcolor": "white",
            "gridwidth": 2,
            "linecolor": "white",
            "showbackground": true,
            "ticks": "",
            "zerolinecolor": "white"
           },
           "zaxis": {
            "backgroundcolor": "#E5ECF6",
            "gridcolor": "white",
            "gridwidth": 2,
            "linecolor": "white",
            "showbackground": true,
            "ticks": "",
            "zerolinecolor": "white"
           }
          },
          "shapedefaults": {
           "line": {
            "color": "#2a3f5f"
           }
          },
          "ternary": {
           "aaxis": {
            "gridcolor": "white",
            "linecolor": "white",
            "ticks": ""
           },
           "baxis": {
            "gridcolor": "white",
            "linecolor": "white",
            "ticks": ""
           },
           "bgcolor": "#E5ECF6",
           "caxis": {
            "gridcolor": "white",
            "linecolor": "white",
            "ticks": ""
           }
          },
          "title": {
           "x": 0.05
          },
          "xaxis": {
           "automargin": true,
           "gridcolor": "white",
           "linecolor": "white",
           "ticks": "",
           "title": {
            "standoff": 15
           },
           "zerolinecolor": "white",
           "zerolinewidth": 2
          },
          "yaxis": {
           "automargin": true,
           "gridcolor": "white",
           "linecolor": "white",
           "ticks": "",
           "title": {
            "standoff": 15
           },
           "zerolinecolor": "white",
           "zerolinewidth": 2
          }
         }
        },
        "title": {
         "text": "Queimadas por Região"
        },
        "width": 900,
        "xaxis": {
         "anchor": "y",
         "domain": [
          0,
          0.45
         ],
         "title": {
          "text": "Data"
         }
        },
        "xaxis2": {
         "anchor": "y2",
         "domain": [
          0.55,
          1
         ],
         "title": {
          "text": "Data"
         }
        },
        "yaxis": {
         "anchor": "x",
         "domain": [
          0,
          1
         ],
         "title": {
          "text": "Nº Queimadas"
         }
        },
        "yaxis2": {
         "anchor": "x2",
         "domain": [
          0,
          1
         ],
         "title": {
          "text": "Nº Queimadas"
         }
        }
       }
      }
     },
     "metadata": {},
     "output_type": "display_data"
    }
   ],
   "source": [
    "plot_regions(dataframe=data_2use, date_column='Data', count_column='Count', region_column='Regiao')"
   ]
  },
  {
   "cell_type": "code",
   "execution_count": 31,
   "id": "f3de8858",
   "metadata": {},
   "outputs": [
    {
     "data": {
      "text/html": [
       "<div>\n",
       "<style scoped>\n",
       "    .dataframe tbody tr th:only-of-type {\n",
       "        vertical-align: middle;\n",
       "    }\n",
       "\n",
       "    .dataframe tbody tr th {\n",
       "        vertical-align: top;\n",
       "    }\n",
       "\n",
       "    .dataframe thead th {\n",
       "        text-align: right;\n",
       "    }\n",
       "</style>\n",
       "<table border=\"1\" class=\"dataframe\">\n",
       "  <thead>\n",
       "    <tr style=\"text-align: right;\">\n",
       "      <th></th>\n",
       "      <th>lag_#1</th>\n",
       "      <th>lag_#2</th>\n",
       "      <th>lag_#3</th>\n",
       "      <th>lag_#4</th>\n",
       "    </tr>\n",
       "  </thead>\n",
       "  <tbody>\n",
       "    <tr>\n",
       "      <th>CARIRI</th>\n",
       "      <td>1</td>\n",
       "      <td>2</td>\n",
       "      <td>11</td>\n",
       "      <td>12</td>\n",
       "    </tr>\n",
       "  </tbody>\n",
       "</table>\n",
       "</div>"
      ],
      "text/plain": [
       "        lag_#1  lag_#2  lag_#3  lag_#4\n",
       "CARIRI       1       2      11      12"
      ]
     },
     "execution_count": 31,
     "metadata": {},
     "output_type": "execute_result"
    }
   ],
   "source": [
    "# Veirifcação dos lags a 1% de significância\n",
    "train, test = data_2use.iloc[:test_index], data_2use.iloc[test_index:]\n",
    "lags_data = get_significant_lags(train, nLags=40, alpha=0.01)\n",
    "lags_data"
   ]
  },
  {
   "cell_type": "code",
   "execution_count": null,
   "id": "7fc7fe2d",
   "metadata": {},
   "outputs": [],
   "source": []
  },
  {
   "cell_type": "markdown",
   "id": "ed160414",
   "metadata": {},
   "source": [
    "# Modelagem Bayesiana (Caso Cariri)                                                        "
   ]
  },
  {
   "cell_type": "code",
   "execution_count": 32,
   "id": "703917b1",
   "metadata": {},
   "outputs": [
    {
     "data": {
      "image/png": "[encoded data removed]",
      "text/plain": [
       "<Figure size 1500x500 with 1 Axes>"
      ]
     },
     "metadata": {},
     "output_type": "display_data"
    }
   ],
   "source": [
    "def modelling_by_BN(df, lags_df=lags_data, bins=2, test_proportion=test_proportion, diff=False):\n",
    "    if diff == True:\n",
    "        df = df.diff().dropna()\n",
    "        \n",
    "    dict_bn = bayesian_data_processing(df, lags_df=lags_df)\n",
    "    dict_preds, dict_results = {}, {}\n",
    "    \n",
    "    # Criando um modelo para cada região\n",
    "    for c, col in enumerate(dict_bn.keys()):\n",
    "        # Split\n",
    "        train_df, test_df = split_data(dict_bn[col], test_proportion=test_proportion)\n",
    "        \n",
    "        # Discretização\n",
    "        desc = KBinsDiscretizer(n_bins=bins, encode='ordinal', strategy='quantile')  # Metodologia de igual frequência.\n",
    "        desc.fit(train_df.values)\n",
    "        medias_bins = dict(enumerate(bin_means(desc)))\n",
    "        \n",
    "        train_df_desc = pd.DataFrame(desc.transform(train_df.values), \n",
    "                                     index=train_df.index, \n",
    "                                     columns=[f'{column}_discretized' for column in train_df.columns]).astype('int')\n",
    "        \n",
    "        test_df_desc = pd.DataFrame(desc.transform(test_df.values), \n",
    "                                    index=test_df.index, \n",
    "                                    columns=[f'{column}_discretized' for column in test_df.columns]).astype('int')\n",
    "        \n",
    "            \n",
    "        # Criando o modelo\n",
    "        target = train_df_desc.columns[0]\n",
    "        tuple_list = query_tuple_model(train_df_desc)\n",
    "        \n",
    "        bn_model = BayesianNetwork(tuple_list)       \n",
    "        bn_model.fit(train_df_desc, estimator=BayesianEstimator, prior_type=\"BDeu\", equivalent_sample_size=5)\n",
    "        \n",
    "        infer = VariableElimination(bn_model)\n",
    "        \n",
    "        \n",
    "        # Inferência treino\n",
    "        train_inputs = train_df_desc.drop(columns=[target]).to_dict(orient='records')\n",
    "        train_forecasts = []\n",
    "        \n",
    "        for trn in range(len(train_df_desc)):\n",
    "            forecast_interval = np.argmax(infer.query([target], evidence=train_inputs[trn]).values)\n",
    "            train_forecasts.append(medias_bins[forecast_interval])\n",
    "        \n",
    "\n",
    "        # Inferência teste\n",
    "        test_inputs = test_df_desc.drop(columns=[target]).to_dict(orient='records')\n",
    "        test_forecasts = []\n",
    "\n",
    "        for tst in range(len(test_df_desc)):\n",
    "            forecast_interval = np.argmax(infer.query([target], evidence=test_inputs[tst]).values)\n",
    "            test_forecasts.append(medias_bins[forecast_interval])\n",
    "\n",
    "            \n",
    "            # Update do modelo\n",
    "            bn_model.fit_update(pd.DataFrame(test_df_desc.iloc[0, :].values.reshape(1, -1), index=[0], columns=test_df_desc.columns))\n",
    "            \n",
    "\n",
    "        # Juntando as previsões dos conjuntos\n",
    "        total_preds = pd.DataFrame(np.concatenate([train_forecasts, test_forecasts]), \n",
    "                          index=pd.date_range(start=train_df.index[0], end=test_df.index[-1], freq='MS'), \n",
    "                          columns=[f'{col}_preds'])\n",
    "        \n",
    "        if diff == True:\n",
    "            # Ajustando as previsões\n",
    "            last_lag = int(lags_df.loc[col, :].dropna().max())\n",
    "            total_preds = total_preds.values.reshape(-1, ) + df.iloc[last_lag:, c]\n",
    "            total_preds = total_preds.clip(lower=0)\n",
    "            total_preds = pd.Series(total_preds.values.astype(int), index=total_preds.index)\n",
    "            total_preds = total_preds.astype(int)\n",
    "            total_preds[total_preds < 0] = np.nan\n",
    "            \n",
    "            dict_preds[f'{col}_preds'] = pd.Series(total_preds.values.reshape(-1, ), index=total_preds.index)\n",
    "        else:\n",
    "            dict_preds[f'{col}_preds'] = pd.Series(total_preds.values.reshape(-1, ), index=total_preds.index)\n",
    "\n",
    "        # Calculando as métricas\n",
    "        results = calculate_metrics_individual_models_bn(test_df[col], test_forecasts, col=col)\n",
    "        dict_results[col] = pd.Series(results.values.flatten(), index=results.columns)\n",
    "        dict_results[col].name = col\n",
    "    \n",
    "    # Convertendo em dataframe\n",
    "    df_preds = pd.concat(list(dict_preds.values()), axis=1)\n",
    "    df_preds.columns = dict_preds.keys()\n",
    "\n",
    "    df_results = pd.concat(list(dict_results.values()), axis=1).T\n",
    "    return df_preds, df_results\n",
    "\n",
    "preds_2, results = modelling_by_BN(df=data_2use, lags_df=lags_data, bins=2, test_proportion=test_proportion, diff=False)\n",
    "\n",
    "# Plotando os resultados\n",
    "preds_2['Real'] = data_2use['CARIRI']\n",
    "preds_2.plot(title='Previsões de Queimadas - Cariri', figsize=(15, 5), color=['blue', 'red'], alpha=0.5)\n",
    "plt.axvline(x=preds_2.index[int(len(preds_2)*.8)], color='red', linestyle='--', label='Início Teste')\n",
    "plt.legend()\n",
    "plt.show()"
   ]
  },
  {
   "cell_type": "code",
   "execution_count": 33,
   "id": "00344187",
   "metadata": {},
   "outputs": [
    {
     "data": {
      "image/png": "[encoded data removed]",
      "text/plain": [
       "<Figure size 1500x500 with 1 Axes>"
      ]
     },
     "metadata": {},
     "output_type": "display_data"
    }
   ],
   "source": [
    "preds_5, results = modelling_by_BN(df=data_2use, lags_df=lags_data, bins=5, test_proportion=test_proportion, diff=False)\n",
    "\n",
    "# Plotando os resultados\n",
    "preds_5['Real'] = data_2use['CARIRI']\n",
    "preds_5.plot(title='Previsões de Queimadas - Cariri', figsize=(15, 5), color=['blue', 'red'], alpha=0.5)\n",
    "plt.axvline(x=preds_5.index[int(len(preds_5)*.8)], color='red', linestyle='--', label='Início Teste')\n",
    "plt.legend()\n",
    "plt.show()"
   ]
  },
  {
   "cell_type": "code",
   "execution_count": 34,
   "id": "73f0d765",
   "metadata": {},
   "outputs": [
    {
     "data": {
      "image/png": "[encoded data removed]",
      "text/plain": [
       "<Figure size 1500x500 with 1 Axes>"
      ]
     },
     "metadata": {},
     "output_type": "display_data"
    }
   ],
   "source": [
    "preds_25, results = modelling_by_BN(df=data_2use, lags_df=lags_data, bins=25, test_proportion=test_proportion, diff=False)\n",
    "\n",
    "# Plotando os resultados\n",
    "preds_25['Real'] = data_2use['CARIRI']\n",
    "preds_25.plot(title='Previsões de Queimadas - Cariri', figsize=(15, 5), color=['blue', 'red'], alpha=0.5)\n",
    "plt.axvline(x=preds_25.index[int(len(preds_25)*.8)], color='red', linestyle='--', label='Início Teste')\n",
    "plt.legend()\n",
    "plt.show()"
   ]
  }
 ],
 "metadata": {
  "kernelspec": {
   "display_name": "Python 3",
   "language": "python",
   "name": "python3"
  },
  "language_info": {
   "codemirror_mode": {
    "name": "ipython",
    "version": 3
   },
   "file_extension": ".py",
   "mimetype": "text/x-python",
   "name": "python",
   "nbconvert_exporter": "python",
   "pygments_lexer": "ipython3",
   "version": "3.11.4"
  }
 },
 "nbformat": 4,
 "nbformat_minor": 5
}
